{
  "nbformat": 4,
  "nbformat_minor": 0,
  "metadata": {
    "colab": {
      "name": "변수 추출",
      "provenance": [],
      "collapsed_sections": []
    },
    "kernelspec": {
      "name": "python3",
      "display_name": "Python 3"
    },
    "language_info": {
      "name": "python"
    }
  },
  "cells": [
    {
      "cell_type": "markdown",
      "metadata": {
        "id": "_wkde92Vz-3b"
      },
      "source": [
        "# 변수 추출\n",
        "> Feature Extraction\n",
        "\n",
        "식생활 습관과 체형 "
      ]
    },
    {
      "cell_type": "code",
      "metadata": {
        "id": "QnQQmwxCZMLY"
      },
      "source": [
        "import numpy as np\n",
        "import numpy.linalg as lin\n",
        "import matplotlib.pyplot as plt\n",
        "import seaborn as sns\n",
        "%matplotlib inline\n",
        "import pandas as pd\n",
        "import random\n",
        "\n",
        "import warnings\n",
        "warnings.filterwarnings(\"ignore\")"
      ],
      "execution_count": 49,
      "outputs": []
    },
    {
      "cell_type": "code",
      "metadata": {
        "id": "WXvAQGKYYfXa"
      },
      "source": [
        "df = pd.DataFrame(columns=['calory', 'breakfast', 'lunch', 'dinner', 'exercise', 'body_shape'])"
      ],
      "execution_count": 2,
      "outputs": []
    },
    {
      "cell_type": "code",
      "metadata": {
        "id": "_IR5WRtZZakc"
      },
      "source": [
        "df.loc[0] = [1200, 1, 0, 0, 2, 'Skinny']\n",
        "df.loc[1] = [2800, 1, 1, 1, 1, 'Normal']\n",
        "df.loc[2] = [3500, 2, 2, 1, 0, 'Fat']\n",
        "df.loc[3] = [1400, 0, 1, 0, 3, 'Skinny']\n",
        "df.loc[4] = [5000, 2, 2, 2, 0, 'Fat']\n",
        "df.loc[5] = [1300, 0, 0, 1, 2, 'Skinny']\n",
        "df.loc[6] = [3000, 1, 0, 1, 1, 'Normal']\n",
        "df.loc[7] = [4000, 2, 2, 2, 0, 'Fat']\n",
        "df.loc[8] = [2600, 0, 2, 0, 0, 'Normal']\n",
        "df.loc[9] = [3000, 1, 2, 1, 1, 'Fat']"
      ],
      "execution_count": 3,
      "outputs": []
    },
    {
      "cell_type": "code",
      "metadata": {
        "colab": {
          "base_uri": "https://localhost:8080/",
          "height": 357
        },
        "id": "yIcS-Z12ZcYu",
        "outputId": "8e4e1c2c-5b63-4d3c-fba7-6cd3d6a74943"
      },
      "source": [
        "df.head(10)"
      ],
      "execution_count": 4,
      "outputs": [
        {
          "output_type": "execute_result",
          "data": {
            "text/html": [
              "<div>\n",
              "<style scoped>\n",
              "    .dataframe tbody tr th:only-of-type {\n",
              "        vertical-align: middle;\n",
              "    }\n",
              "\n",
              "    .dataframe tbody tr th {\n",
              "        vertical-align: top;\n",
              "    }\n",
              "\n",
              "    .dataframe thead th {\n",
              "        text-align: right;\n",
              "    }\n",
              "</style>\n",
              "<table border=\"1\" class=\"dataframe\">\n",
              "  <thead>\n",
              "    <tr style=\"text-align: right;\">\n",
              "      <th></th>\n",
              "      <th>calory</th>\n",
              "      <th>breakfast</th>\n",
              "      <th>lunch</th>\n",
              "      <th>dinner</th>\n",
              "      <th>exercise</th>\n",
              "      <th>body_shape</th>\n",
              "    </tr>\n",
              "  </thead>\n",
              "  <tbody>\n",
              "    <tr>\n",
              "      <th>0</th>\n",
              "      <td>1200</td>\n",
              "      <td>1</td>\n",
              "      <td>0</td>\n",
              "      <td>0</td>\n",
              "      <td>2</td>\n",
              "      <td>Skinny</td>\n",
              "    </tr>\n",
              "    <tr>\n",
              "      <th>1</th>\n",
              "      <td>2800</td>\n",
              "      <td>1</td>\n",
              "      <td>1</td>\n",
              "      <td>1</td>\n",
              "      <td>1</td>\n",
              "      <td>Normal</td>\n",
              "    </tr>\n",
              "    <tr>\n",
              "      <th>2</th>\n",
              "      <td>3500</td>\n",
              "      <td>2</td>\n",
              "      <td>2</td>\n",
              "      <td>1</td>\n",
              "      <td>0</td>\n",
              "      <td>Fat</td>\n",
              "    </tr>\n",
              "    <tr>\n",
              "      <th>3</th>\n",
              "      <td>1400</td>\n",
              "      <td>0</td>\n",
              "      <td>1</td>\n",
              "      <td>0</td>\n",
              "      <td>3</td>\n",
              "      <td>Skinny</td>\n",
              "    </tr>\n",
              "    <tr>\n",
              "      <th>4</th>\n",
              "      <td>5000</td>\n",
              "      <td>2</td>\n",
              "      <td>2</td>\n",
              "      <td>2</td>\n",
              "      <td>0</td>\n",
              "      <td>Fat</td>\n",
              "    </tr>\n",
              "    <tr>\n",
              "      <th>5</th>\n",
              "      <td>1300</td>\n",
              "      <td>0</td>\n",
              "      <td>0</td>\n",
              "      <td>1</td>\n",
              "      <td>2</td>\n",
              "      <td>Skinny</td>\n",
              "    </tr>\n",
              "    <tr>\n",
              "      <th>6</th>\n",
              "      <td>3000</td>\n",
              "      <td>1</td>\n",
              "      <td>0</td>\n",
              "      <td>1</td>\n",
              "      <td>1</td>\n",
              "      <td>Normal</td>\n",
              "    </tr>\n",
              "    <tr>\n",
              "      <th>7</th>\n",
              "      <td>4000</td>\n",
              "      <td>2</td>\n",
              "      <td>2</td>\n",
              "      <td>2</td>\n",
              "      <td>0</td>\n",
              "      <td>Fat</td>\n",
              "    </tr>\n",
              "    <tr>\n",
              "      <th>8</th>\n",
              "      <td>2600</td>\n",
              "      <td>0</td>\n",
              "      <td>2</td>\n",
              "      <td>0</td>\n",
              "      <td>0</td>\n",
              "      <td>Normal</td>\n",
              "    </tr>\n",
              "    <tr>\n",
              "      <th>9</th>\n",
              "      <td>3000</td>\n",
              "      <td>1</td>\n",
              "      <td>2</td>\n",
              "      <td>1</td>\n",
              "      <td>1</td>\n",
              "      <td>Fat</td>\n",
              "    </tr>\n",
              "  </tbody>\n",
              "</table>\n",
              "</div>"
            ],
            "text/plain": [
              "  calory breakfast lunch dinner exercise body_shape\n",
              "0   1200         1     0      0        2     Skinny\n",
              "1   2800         1     1      1        1     Normal\n",
              "2   3500         2     2      1        0        Fat\n",
              "3   1400         0     1      0        3     Skinny\n",
              "4   5000         2     2      2        0        Fat\n",
              "5   1300         0     0      1        2     Skinny\n",
              "6   3000         1     0      1        1     Normal\n",
              "7   4000         2     2      2        0        Fat\n",
              "8   2600         0     2      0        0     Normal\n",
              "9   3000         1     2      1        1        Fat"
            ]
          },
          "metadata": {},
          "execution_count": 4
        }
      ]
    },
    {
      "cell_type": "markdown",
      "metadata": {
        "id": "fiOfuG4MaFqU"
      },
      "source": [
        "<br>\n",
        "<br>\n",
        "\n",
        "## 1. 데이터 전처리"
      ]
    },
    {
      "cell_type": "markdown",
      "metadata": {
        "id": "ZmfEfp6pZsWw"
      },
      "source": [
        "설명변수 X와 목표변수 Y를 분리한다"
      ]
    },
    {
      "cell_type": "code",
      "metadata": {
        "id": "V8s1kUdTZw0Q"
      },
      "source": [
        "X = df[['calory', 'breakfast', 'lunch', 'dinner', 'exercise']]\n",
        "Y = df[['body_shape']]"
      ],
      "execution_count": 5,
      "outputs": []
    },
    {
      "cell_type": "markdown",
      "metadata": {
        "id": "GrVqHQKjaPCY"
      },
      "source": [
        "### Scaling\n",
        "\n",
        "PCA는 공분산 행렬로 비교하기 때문에 데이터마다 분산과 평균을 맞추어 주어야 한다."
      ]
    },
    {
      "cell_type": "code",
      "metadata": {
        "colab": {
          "base_uri": "https://localhost:8080/"
        },
        "id": "idu_BcUWZsHl",
        "outputId": "4c8359d9-8947-4887-9b00-b989a8106dd3"
      },
      "source": [
        "from sklearn.preprocessing import StandardScaler\n",
        "scaler = StandardScaler()\n",
        "X_std = scaler.fit_transform(X)\n",
        "X_std"
      ],
      "execution_count": 6,
      "outputs": [
        {
          "output_type": "execute_result",
          "data": {
            "text/plain": [
              "array([[-1.35205803,  0.        , -1.3764944 , -1.28571429,  1.        ],\n",
              "       [ 0.01711466,  0.        , -0.22941573,  0.14285714,  0.        ],\n",
              "       [ 0.61612771,  1.29099445,  0.91766294,  0.14285714, -1.        ],\n",
              "       [-1.18091145, -1.29099445, -0.22941573, -1.28571429,  2.        ],\n",
              "       [ 1.89972711,  1.29099445,  0.91766294,  1.57142857, -1.        ],\n",
              "       [-1.26648474, -1.29099445, -1.3764944 ,  0.14285714,  1.        ],\n",
              "       [ 0.18826125,  0.        , -1.3764944 ,  0.14285714,  0.        ],\n",
              "       [ 1.04399418,  1.29099445,  0.91766294,  1.57142857, -1.        ],\n",
              "       [-0.15403193, -1.29099445,  0.91766294, -1.28571429, -1.        ],\n",
              "       [ 0.18826125,  0.        ,  0.91766294,  0.14285714,  0.        ]])"
            ]
          },
          "metadata": {},
          "execution_count": 6
        }
      ]
    },
    {
      "cell_type": "markdown",
      "metadata": {
        "id": "yLjjmbVtarCj"
      },
      "source": [
        "<br>\n",
        "<br>\n",
        "\n",
        "## 2. 공분산 행렬 구하기 \n",
        "\n",
        "Covariance\n",
        "\n",
        "PCA는 공분산 행렬을 대각화하여 고유값을 구하기 때문에\n",
        "공분산 행렬은 서로를 설명하게 되는 것 !"
      ]
    },
    {
      "cell_type": "code",
      "metadata": {
        "colab": {
          "base_uri": "https://localhost:8080/"
        },
        "id": "ohDwXhyGaxTu",
        "outputId": "df75b523-f47e-4088-af5b-ccae9d5bfa9a"
      },
      "source": [
        "features = X_std.T \n",
        "covariance_matrix = np.cov(features)\n",
        "print(covariance_matrix)"
      ],
      "execution_count": 8,
      "outputs": [
        {
          "output_type": "stream",
          "name": "stdout",
          "text": [
            "[[ 1.11111111  0.88379717  0.76782385  0.89376551 -0.93179808]\n",
            " [ 0.88379717  1.11111111  0.49362406  0.81967902 -0.71721914]\n",
            " [ 0.76782385  0.49362406  1.11111111  0.40056715 -0.76471911]\n",
            " [ 0.89376551  0.81967902  0.40056715  1.11111111 -0.63492063]\n",
            " [-0.93179808 -0.71721914 -0.76471911 -0.63492063  1.11111111]]\n"
          ]
        }
      ]
    },
    {
      "cell_type": "markdown",
      "metadata": {
        "id": "4HuMWN6bbKa-"
      },
      "source": [
        "<br>\n",
        "<br>\n",
        "\n",
        "## 3. 고유벡터와 고유값 구하기\n",
        "\n",
        "Eigen Vectors and Eigen Values\n",
        "\n",
        "공분산 행렬로부터 고유벡터와 고유값 추출하기"
      ]
    },
    {
      "cell_type": "markdown",
      "metadata": {
        "id": "UcxZUFRsf5UN"
      },
      "source": [
        "[numpy.linalg.eig(a)](https://numpy.org/doc/stable/reference/generated/numpy.linalg.eig.html#numpy.linalg.eig) : Compute the eigenvalues and right eigenvectors of a square array"
      ]
    },
    {
      "cell_type": "code",
      "metadata": {
        "id": "7qcxJYVRau1D"
      },
      "source": [
        "eigenvalues, eigenvectors = np.linalg.eig(covariance_matrix)"
      ],
      "execution_count": 11,
      "outputs": []
    },
    {
      "cell_type": "code",
      "metadata": {
        "colab": {
          "base_uri": "https://localhost:8080/"
        },
        "id": "6V0hrQMmbTX7",
        "outputId": "bc49c05d-1663-47f6-d666-5f9699ea8b0f"
      },
      "source": [
        "print('eigenvectors \\n%s' %eigenvalues)"
      ],
      "execution_count": 12,
      "outputs": [
        {
          "output_type": "stream",
          "name": "stdout",
          "text": [
            "Eigenvectors \n",
            "[4.0657343  0.8387565  0.07629538 0.27758568 0.2971837 ]\n"
          ]
        }
      ]
    },
    {
      "cell_type": "code",
      "metadata": {
        "colab": {
          "base_uri": "https://localhost:8080/"
        },
        "id": "SRRrJs_YbWd5",
        "outputId": "2377d2f7-5891-4e0c-9e58-0d02423f24f9"
      },
      "source": [
        "print('eigenvectors \\n%s' %eigenvectors)"
      ],
      "execution_count": 25,
      "outputs": [
        {
          "output_type": "stream",
          "name": "stdout",
          "text": [
            "eigenvectors \n",
            "[[-0.508005   -0.0169937  -0.84711404  0.11637853  0.10244985]\n",
            " [-0.44660335 -0.36890361  0.12808055 -0.63112016 -0.49973822]\n",
            " [-0.38377913  0.70804084  0.20681005 -0.40305226  0.38232213]\n",
            " [-0.42845209 -0.53194699  0.3694462   0.22228235  0.58954327]\n",
            " [ 0.46002038 -0.2816592  -0.29450345 -0.61341895  0.49601841]]\n"
          ]
        }
      ]
    },
    {
      "cell_type": "markdown",
      "metadata": {
        "id": "AgydfVlxdiMc"
      },
      "source": [
        "<br>\n",
        "\n",
        "하나의 고유 벡터만을 사용할 경우 고차원의 데이터를 1차원의 데이터로 바꿀 수 있으며 그때 전체의 약 73%의 정보를 가지고 있을 수 있다. (73%의 분산을 설명할 수 있다.)"
      ]
    },
    {
      "cell_type": "code",
      "metadata": {
        "colab": {
          "base_uri": "https://localhost:8080/"
        },
        "id": "4f2duwpJbYE5",
        "outputId": "6a9e48e6-0af2-4aaf-9d35-16688cead49f"
      },
      "source": [
        "# We reduce dimension to 1 dimension, since 1 eigenvector has 73% (enough) variances\n",
        "eigenvalues[0] / sum(eigenvalues)"
      ],
      "execution_count": 15,
      "outputs": [
        {
          "output_type": "execute_result",
          "data": {
            "text/plain": [
              "0.7318321731427545"
            ]
          },
          "metadata": {},
          "execution_count": 15
        }
      ]
    },
    {
      "cell_type": "markdown",
      "metadata": {
        "id": "AQJjVRZbehlg"
      },
      "source": [
        "<br>\n",
        "\n",
        "**고유값 분해 연습하기**\n",
        "\n",
        "A = 𝑃Λ𝑃"
      ]
    },
    {
      "cell_type": "markdown",
      "metadata": {
        "id": "5d1CFLseero7"
      },
      "source": [
        "고유값을 대각행렬로 표현하기"
      ]
    },
    {
      "cell_type": "code",
      "metadata": {
        "colab": {
          "base_uri": "https://localhost:8080/"
        },
        "id": "68Yyf0_4egvX",
        "outputId": "39e2060e-2a77-475e-bdd7-e0d4897e8205"
      },
      "source": [
        "mat = np.zeros((5, 5))\n",
        "mat[0][0] = eigenvalues[0]\n",
        "mat[1][1] = eigenvalues[1]\n",
        "mat[2][2] = eigenvalues[2]\n",
        "mat[3][3] = eigenvalues[3]\n",
        "mat[4][4] = eigenvalues[4]\n",
        "mat"
      ],
      "execution_count": 27,
      "outputs": [
        {
          "output_type": "execute_result",
          "data": {
            "text/plain": [
              "array([[4.0657343 , 0.        , 0.        , 0.        , 0.        ],\n",
              "       [0.        , 0.8387565 , 0.        , 0.        , 0.        ],\n",
              "       [0.        , 0.        , 0.07629538, 0.        , 0.        ],\n",
              "       [0.        , 0.        , 0.        , 0.27758568, 0.        ],\n",
              "       [0.        , 0.        , 0.        , 0.        , 0.2971837 ]])"
            ]
          },
          "metadata": {},
          "execution_count": 27
        }
      ]
    },
    {
      "cell_type": "markdown",
      "metadata": {
        "id": "vEtcbf4Rfc2D"
      },
      "source": [
        "[numpy.matmul](https://numpy.org/doc/stable/reference/generated/numpy.matmul.html) : Matrix product of two arrays\n",
        "\n",
        "[numpy.linalg.inv](https://numpy.org/doc/stable/reference/generated/numpy.linalg.inv.html#numpy.linalg.inv) : Compute the (multiplicative) inverse of a matrix"
      ]
    },
    {
      "cell_type": "code",
      "metadata": {
        "colab": {
          "base_uri": "https://localhost:8080/"
        },
        "id": "pKFAE8nAfoQH",
        "outputId": "edda2fce-0b64-4b50-b567-e9844d19d393"
      },
      "source": [
        "np.linalg.inv(eigenvectors)"
      ],
      "execution_count": 28,
      "outputs": [
        {
          "output_type": "execute_result",
          "data": {
            "text/plain": [
              "array([[-0.508005  , -0.44660335, -0.38377913, -0.42845209,  0.46002038],\n",
              "       [-0.0169937 , -0.36890361,  0.70804084, -0.53194699, -0.2816592 ],\n",
              "       [-0.84711404,  0.12808055,  0.20681005,  0.3694462 , -0.29450345],\n",
              "       [ 0.11637853, -0.63112016, -0.40305226,  0.22228235, -0.61341895],\n",
              "       [ 0.10244985, -0.49973822,  0.38232213,  0.58954327,  0.49601841]])"
            ]
          },
          "metadata": {},
          "execution_count": 28
        }
      ]
    },
    {
      "cell_type": "code",
      "metadata": {
        "colab": {
          "base_uri": "https://localhost:8080/"
        },
        "id": "A_eF1XevfI2J",
        "outputId": "410e0204-e9c7-4c8f-90fc-dcf91bdb1901"
      },
      "source": [
        "np.matmul(np.matmul(eigenvectors, mat), np.linalg.inv(eigenvectors))"
      ],
      "execution_count": 33,
      "outputs": [
        {
          "output_type": "execute_result",
          "data": {
            "text/plain": [
              "array([[ 1.11111111,  0.88379717,  0.76782385,  0.89376551, -0.93179808],\n",
              "       [ 0.88379717,  1.11111111,  0.49362406,  0.81967902, -0.71721914],\n",
              "       [ 0.76782385,  0.49362406,  1.11111111,  0.40056715, -0.76471911],\n",
              "       [ 0.89376551,  0.81967902,  0.40056715,  1.11111111, -0.63492063],\n",
              "       [-0.93179808, -0.71721914, -0.76471911, -0.63492063,  1.11111111]])"
            ]
          },
          "metadata": {},
          "execution_count": 33
        }
      ]
    },
    {
      "cell_type": "code",
      "metadata": {
        "colab": {
          "base_uri": "https://localhost:8080/"
        },
        "id": "Acx5nvL2gZpg",
        "outputId": "0b27d5e4-5e7c-4bf0-9c0f-6df1d87b050f"
      },
      "source": [
        "covariance_matrix"
      ],
      "execution_count": 34,
      "outputs": [
        {
          "output_type": "execute_result",
          "data": {
            "text/plain": [
              "array([[ 1.11111111,  0.88379717,  0.76782385,  0.89376551, -0.93179808],\n",
              "       [ 0.88379717,  1.11111111,  0.49362406,  0.81967902, -0.71721914],\n",
              "       [ 0.76782385,  0.49362406,  1.11111111,  0.40056715, -0.76471911],\n",
              "       [ 0.89376551,  0.81967902,  0.40056715,  1.11111111, -0.63492063],\n",
              "       [-0.93179808, -0.71721914, -0.76471911, -0.63492063,  1.11111111]])"
            ]
          },
          "metadata": {},
          "execution_count": 34
        }
      ]
    },
    {
      "cell_type": "markdown",
      "metadata": {
        "id": "OVq7tphYbaXf"
      },
      "source": [
        "<br>\n",
        "<br>\n",
        "\n",
        "## 4. Projection\n",
        "\n",
        "선택된 고유벡터 축으로 데이터를 변환 (Projection) 한다.\n",
        "\n",
        "[numpy.concatenate](https://numpy.org/doc/stable/reference/generated/numpy.concatenate.html) : Join a sequence of arrays along an existing axis"
      ]
    },
    {
      "cell_type": "code",
      "metadata": {
        "colab": {
          "base_uri": "https://localhost:8080/"
        },
        "id": "qTlPbCkNhOt-",
        "outputId": "4c739c12-bc09-4ec3-df73-34fdc2180751"
      },
      "source": [
        "# 모든 고유 벡터를 축으로 데이터를 Projection 하는 경우\n",
        "\n",
        "def get_projections(X, eigenvectors):\n",
        "    for i in range(len(eigenvectors)):\n",
        "        if i == 0:\n",
        "            new_X = X.dot(eigenvectors.T[i]).reshape(1,-1)\n",
        "        else: \n",
        "            new_X = np.concatenate((new_X, np.dot(X, eigenvectors.T[i]).reshape(1,-1)), axis=0)\n",
        "    return new_X.T\n",
        "\n",
        "get_projections(X_std, eigenvectors)"
      ],
      "execution_count": 40,
      "outputs": [
        {
          "output_type": "execute_result",
          "data": {
            "text/plain": [
              "array([[ 2.22600943e+00, -5.49365143e-01,  9.11687591e-02,\n",
              "        -5.01761879e-01, -9.26748204e-01],\n",
              "       [ 1.81431977e-02, -2.38718978e-01, -9.16551921e-03,\n",
              "         1.26212932e-01, -1.73685178e-03],\n",
              "       [-1.76296611e+00,  3.68686811e-01,  1.80484240e-01,\n",
              "        -4.67761148e-01, -6.42992171e-01],\n",
              "       [ 2.73542407e+00,  4.54498302e-01, -2.76439242e-01,\n",
              "        -7.42823065e-01,  6.70516979e-01],\n",
              "       [-3.02711544e+00, -4.13050565e-01, -3.79090547e-01,\n",
              "        -8.31523229e-04,  3.30717058e-01],\n",
              "       [ 2.14702579e+00, -8.34491113e-01,  3.81107428e-01,\n",
              "         6.40515860e-01,  5.69382701e-01],\n",
              "       [ 3.71424735e-01, -1.05380594e+00, -3.91373597e-01,\n",
              "         6.08463375e-01, -4.22756474e-01],\n",
              "       [-2.59239883e+00, -3.98508496e-01,  3.45812836e-01,\n",
              "        -1.00420462e-01,  2.43047350e-01],\n",
              "       [ 3.93478147e-01,  2.09420397e+00, -2.55855631e-02,\n",
              "         7.54607848e-01, -2.73781041e-01],\n",
              "       [-5.09024983e-01,  5.70551157e-01,  8.30812056e-02,\n",
              "        -3.16201936e-01,  4.54350653e-01]])"
            ]
          },
          "metadata": {},
          "execution_count": 40
        }
      ]
    },
    {
      "cell_type": "code",
      "metadata": {
        "id": "l20AH48obbHj"
      },
      "source": [
        "projected_X = X_std.dot(eigenvectors.T[0])"
      ],
      "execution_count": 41,
      "outputs": []
    },
    {
      "cell_type": "code",
      "metadata": {
        "colab": {
          "base_uri": "https://localhost:8080/"
        },
        "id": "GrNWmOHqbchu",
        "outputId": "2fffb498-e6e4-4d7c-ddfc-abd4a3fccc59"
      },
      "source": [
        "projected_X"
      ],
      "execution_count": 43,
      "outputs": [
        {
          "output_type": "execute_result",
          "data": {
            "text/plain": [
              "array([ 2.22600943,  0.0181432 , -1.76296611,  2.73542407, -3.02711544,\n",
              "        2.14702579,  0.37142473, -2.59239883,  0.39347815, -0.50902498])"
            ]
          },
          "metadata": {},
          "execution_count": 43
        }
      ]
    },
    {
      "cell_type": "code",
      "metadata": {
        "id": "gRQiEz5bbdbQ"
      },
      "source": [
        "result = pd.DataFrame(projected_X, columns=['PC1'])\n",
        "result['y-axis'] = 0.0\n",
        "result['label'] = Y"
      ],
      "execution_count": 44,
      "outputs": []
    },
    {
      "cell_type": "code",
      "metadata": {
        "colab": {
          "base_uri": "https://localhost:8080/",
          "height": 357
        },
        "id": "Vj4hftvebeN5",
        "outputId": "e992ea53-9cc9-437a-e834-5a2c62124555"
      },
      "source": [
        "result.head(10)"
      ],
      "execution_count": 45,
      "outputs": [
        {
          "output_type": "execute_result",
          "data": {
            "text/html": [
              "<div>\n",
              "<style scoped>\n",
              "    .dataframe tbody tr th:only-of-type {\n",
              "        vertical-align: middle;\n",
              "    }\n",
              "\n",
              "    .dataframe tbody tr th {\n",
              "        vertical-align: top;\n",
              "    }\n",
              "\n",
              "    .dataframe thead th {\n",
              "        text-align: right;\n",
              "    }\n",
              "</style>\n",
              "<table border=\"1\" class=\"dataframe\">\n",
              "  <thead>\n",
              "    <tr style=\"text-align: right;\">\n",
              "      <th></th>\n",
              "      <th>PC1</th>\n",
              "      <th>y-axis</th>\n",
              "      <th>label</th>\n",
              "    </tr>\n",
              "  </thead>\n",
              "  <tbody>\n",
              "    <tr>\n",
              "      <th>0</th>\n",
              "      <td>2.226009</td>\n",
              "      <td>0.0</td>\n",
              "      <td>Skinny</td>\n",
              "    </tr>\n",
              "    <tr>\n",
              "      <th>1</th>\n",
              "      <td>0.018143</td>\n",
              "      <td>0.0</td>\n",
              "      <td>Normal</td>\n",
              "    </tr>\n",
              "    <tr>\n",
              "      <th>2</th>\n",
              "      <td>-1.762966</td>\n",
              "      <td>0.0</td>\n",
              "      <td>Fat</td>\n",
              "    </tr>\n",
              "    <tr>\n",
              "      <th>3</th>\n",
              "      <td>2.735424</td>\n",
              "      <td>0.0</td>\n",
              "      <td>Skinny</td>\n",
              "    </tr>\n",
              "    <tr>\n",
              "      <th>4</th>\n",
              "      <td>-3.027115</td>\n",
              "      <td>0.0</td>\n",
              "      <td>Fat</td>\n",
              "    </tr>\n",
              "    <tr>\n",
              "      <th>5</th>\n",
              "      <td>2.147026</td>\n",
              "      <td>0.0</td>\n",
              "      <td>Skinny</td>\n",
              "    </tr>\n",
              "    <tr>\n",
              "      <th>6</th>\n",
              "      <td>0.371425</td>\n",
              "      <td>0.0</td>\n",
              "      <td>Normal</td>\n",
              "    </tr>\n",
              "    <tr>\n",
              "      <th>7</th>\n",
              "      <td>-2.592399</td>\n",
              "      <td>0.0</td>\n",
              "      <td>Fat</td>\n",
              "    </tr>\n",
              "    <tr>\n",
              "      <th>8</th>\n",
              "      <td>0.393478</td>\n",
              "      <td>0.0</td>\n",
              "      <td>Normal</td>\n",
              "    </tr>\n",
              "    <tr>\n",
              "      <th>9</th>\n",
              "      <td>-0.509025</td>\n",
              "      <td>0.0</td>\n",
              "      <td>Fat</td>\n",
              "    </tr>\n",
              "  </tbody>\n",
              "</table>\n",
              "</div>"
            ],
            "text/plain": [
              "        PC1  y-axis   label\n",
              "0  2.226009     0.0  Skinny\n",
              "1  0.018143     0.0  Normal\n",
              "2 -1.762966     0.0     Fat\n",
              "3  2.735424     0.0  Skinny\n",
              "4 -3.027115     0.0     Fat\n",
              "5  2.147026     0.0  Skinny\n",
              "6  0.371425     0.0  Normal\n",
              "7 -2.592399     0.0     Fat\n",
              "8  0.393478     0.0  Normal\n",
              "9 -0.509025     0.0     Fat"
            ]
          },
          "metadata": {},
          "execution_count": 45
        }
      ]
    },
    {
      "cell_type": "code",
      "metadata": {
        "colab": {
          "base_uri": "https://localhost:8080/",
          "height": 403
        },
        "id": "4u-uSiIabfhR",
        "outputId": "93de9f4c-7e6b-42c2-9953-59e24ef80040"
      },
      "source": [
        "sns.lmplot('PC1', 'y-axis', data=result, fit_reg=False, scatter_kws={\"s\": 50}, hue=\"label\")\n",
        "plt.title('PCA result')"
      ],
      "execution_count": 50,
      "outputs": [
        {
          "output_type": "execute_result",
          "data": {
            "text/plain": [
              "Text(0.5, 1.0, 'PCA result')"
            ]
          },
          "metadata": {},
          "execution_count": 50
        },
        {
          "output_type": "display_data",
          "data": {
            "image/png": "[encoded data removed]",
            "text/plain": [
              "<Figure size 432.125x360 with 1 Axes>"
            ]
          },
          "metadata": {
            "needs_background": "light"
          }
        }
      ]
    },
    {
      "cell_type": "markdown",
      "metadata": {
        "id": "f-rU7u1kbhjZ"
      },
      "source": [
        "---\n",
        "\n",
        "<br>\n",
        "<br>\n",
        "\n",
        "# scikit-learn PCA\n",
        "\n",
        "sckit-learn에서 제공하는 메서드를 사용하면 쉽게 PCA 구현이 가능하다!\n",
        "\n",
        "[sklearn.decomposition.PCA](https://scikit-learn.org/stable/modules/generated/sklearn.decomposition.PCA.html) : Principal component analysis (PCA)\n",
        "\n",
        "- n_components : 몇 개 차원까지 축소할 것인지\n",
        "- copy : 원래 배열에 덮어쓸 것인지 (False의 경우 fit_transform을 사용)\n",
        "- whiten : components_ 벡터에 n_samples 제곱근을 곱하고 고유값으로 나눠져 uncorrelated outputs을 보장한다. 하지만 일부 정보를 소실시킬 수 있다.\n",
        "- svd_solver : 고유값 분해 시 방정식의 풀이 방법을 지정 (기본값은 auto: shape와 n_components를 기반으로 더 효율적인 randomized 방법, 그렇지 않으면 SVD 사용하는 방법)"
      ]
    },
    {
      "cell_type": "code",
      "metadata": {
        "id": "SlyU0mNCbitU"
      },
      "source": [
        "from sklearn import decomposition\n",
        "pca = decomposition.PCA(n_components=1)\n",
        "sklearn_pca_x = pca.fit_transform(X_std)"
      ],
      "execution_count": 52,
      "outputs": []
    },
    {
      "cell_type": "code",
      "metadata": {
        "colab": {
          "base_uri": "https://localhost:8080/",
          "height": 403
        },
        "id": "TyeSiwjfbjqF",
        "outputId": "d7499de0-ebd5-401f-cd38-6a84df6651dc"
      },
      "source": [
        "sklearn_result = pd.DataFrame(sklearn_pca_x, columns=['PC1'])\n",
        "sklearn_result['y-axis'] = 0.0\n",
        "sklearn_result['label'] = Y\n",
        "\n",
        "sns.lmplot('PC1', 'y-axis', data=result, fit_reg=False, scatter_kws={\"s\": 50}, hue=\"label\")\n",
        "plt.title('PCA result by sckit-learn')"
      ],
      "execution_count": 55,
      "outputs": [
        {
          "output_type": "execute_result",
          "data": {
            "text/plain": [
              "Text(0.5, 1.0, 'PCA result by sckit-learn')"
            ]
          },
          "metadata": {},
          "execution_count": 55
        },
        {
          "output_type": "display_data",
          "data": {
            "image/png": "[encoded data removed]",
            "text/plain": [
              "<Figure size 432.125x360 with 1 Axes>"
            ]
          },
          "metadata": {
            "needs_background": "light"
          }
        }
      ]
    },
    {
      "cell_type": "markdown",
      "metadata": {
        "id": "vFcTbmaaZgAA"
      },
      "source": [
        "<br>\n",
        "<br>\n",
        "\n",
        "---\n",
        "\n",
        "[참고 영상](https://www.youtube.com/watch?v=DUJ2vwjRQag)"
      ]
    }
  ]
}